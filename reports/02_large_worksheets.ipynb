{
 "cells": [
  {
   "cell_type": "code",
   "execution_count": null,
   "id": "d570f20a",
   "metadata": {},
   "outputs": [],
   "source": [
    "import pandas as pd\n",
    "import numpy as np\n",
    "from openpyxl.utils.dataframe import dataframe_to_rows\n",
    "from openpyxl import load_workbook"
   ]
  },
  {
   "cell_type": "code",
   "execution_count": 2,
   "id": "322d882e",
   "metadata": {},
   "outputs": [],
   "source": [
    "wb = load_workbook('template.xlsx')\n",
    "ws = wb.active"
   ]
  },
  {
   "cell_type": "code",
   "execution_count": null,
   "id": "575c125b",
   "metadata": {},
   "outputs": [],
   "source": [
    "df = pd.read_csv('crime.csv', encoding='utf-8', dtype={'INCIDENT_NUMBER': str, 'OFFENSE_CODE':str,\n",
    "                                                      'OFFENSE_CODE_GROUP':str, 'OFFENSE_DESCRIPTION':str,\n",
    "                                                      'DISTRICT':str, 'REPORTING_AREA':str, 'YEAR':str, 'MONTH':str,\n",
    "                                                      'DAY_OF_WEEK':str, 'HOUR':str})"
   ]
  },
  {
   "cell_type": "code",
   "execution_count": 4,
   "id": "4b5e1874",
   "metadata": {},
   "outputs": [],
   "source": [
    "# filter only records for Counterfeiting\n",
    "df1 = df.query('OFFENSE_CODE_GROUP == \"Counterfeiting\"')"
   ]
  },
  {
   "cell_type": "code",
   "execution_count": 5,
   "id": "8b036db0",
   "metadata": {},
   "outputs": [],
   "source": [
    "total_crimes = len(df.index)\n",
    "counterfeit = len(df1.index)"
   ]
  },
  {
   "cell_type": "code",
   "execution_count": 6,
   "id": "75f7560a",
   "metadata": {},
   "outputs": [
    {
     "data": {
      "text/plain": [
       "0.45"
      ]
     },
     "execution_count": 6,
     "metadata": {},
     "output_type": "execute_result"
    }
   ],
   "source": [
    "perc_crimes = (counterfeit / total_crimes) * 100\n",
    "perc_crimes = round(perc_crimes, 2)\n",
    "perc_crimes"
   ]
  },
  {
   "cell_type": "code",
   "execution_count": 8,
   "id": "f79dc009",
   "metadata": {},
   "outputs": [],
   "source": [
    "# Put calcutions into template cells\n",
    "ws['O8'].value = total_crimes\n",
    "ws['P8'].value = counterfeit\n",
    "ws['Q8'].value = perc_crimes"
   ]
  },
  {
   "cell_type": "code",
   "execution_count": null,
   "id": "f690791d",
   "metadata": {},
   "outputs": [],
   "source": [
    "# get number of couterfeiting crimes per district per each year\n",
    "# create new column \"count\" with value =1 in each row\n",
    "df1['count'] = 1\n",
    "df2 = df1.groupby(['DISTRICT', 'YEAR']).count()[['count']]\n",
    "df2\n",
    "\n",
    "# display district as row values"
   ]
  },
  {
   "cell_type": "code",
   "execution_count": 10,
   "id": "e67207c6",
   "metadata": {},
   "outputs": [
    {
     "data": {
      "text/html": [
       "<div>\n",
       "<style scoped>\n",
       "    .dataframe tbody tr th:only-of-type {\n",
       "        vertical-align: middle;\n",
       "    }\n",
       "\n",
       "    .dataframe tbody tr th {\n",
       "        vertical-align: top;\n",
       "    }\n",
       "\n",
       "    .dataframe thead tr th {\n",
       "        text-align: left;\n",
       "    }\n",
       "\n",
       "    .dataframe thead tr:last-of-type th {\n",
       "        text-align: right;\n",
       "    }\n",
       "</style>\n",
       "<table border=\"1\" class=\"dataframe\">\n",
       "  <thead>\n",
       "    <tr>\n",
       "      <th></th>\n",
       "      <th colspan=\"12\" halign=\"left\">count</th>\n",
       "    </tr>\n",
       "    <tr>\n",
       "      <th>DISTRICT</th>\n",
       "      <th>A1</th>\n",
       "      <th>A15</th>\n",
       "      <th>A7</th>\n",
       "      <th>B2</th>\n",
       "      <th>B3</th>\n",
       "      <th>C11</th>\n",
       "      <th>C6</th>\n",
       "      <th>D14</th>\n",
       "      <th>D4</th>\n",
       "      <th>E13</th>\n",
       "      <th>E18</th>\n",
       "      <th>E5</th>\n",
       "    </tr>\n",
       "    <tr>\n",
       "      <th>YEAR</th>\n",
       "      <th></th>\n",
       "      <th></th>\n",
       "      <th></th>\n",
       "      <th></th>\n",
       "      <th></th>\n",
       "      <th></th>\n",
       "      <th></th>\n",
       "      <th></th>\n",
       "      <th></th>\n",
       "      <th></th>\n",
       "      <th></th>\n",
       "      <th></th>\n",
       "    </tr>\n",
       "  </thead>\n",
       "  <tbody>\n",
       "    <tr>\n",
       "      <th>2015</th>\n",
       "      <td>25</td>\n",
       "      <td>5</td>\n",
       "      <td>6</td>\n",
       "      <td>32</td>\n",
       "      <td>26</td>\n",
       "      <td>73</td>\n",
       "      <td>16</td>\n",
       "      <td>6</td>\n",
       "      <td>35</td>\n",
       "      <td>17</td>\n",
       "      <td>20</td>\n",
       "      <td>15</td>\n",
       "    </tr>\n",
       "    <tr>\n",
       "      <th>2016</th>\n",
       "      <td>57</td>\n",
       "      <td>2</td>\n",
       "      <td>16</td>\n",
       "      <td>68</td>\n",
       "      <td>44</td>\n",
       "      <td>98</td>\n",
       "      <td>28</td>\n",
       "      <td>32</td>\n",
       "      <td>64</td>\n",
       "      <td>42</td>\n",
       "      <td>26</td>\n",
       "      <td>17</td>\n",
       "    </tr>\n",
       "    <tr>\n",
       "      <th>2017</th>\n",
       "      <td>37</td>\n",
       "      <td>8</td>\n",
       "      <td>14</td>\n",
       "      <td>64</td>\n",
       "      <td>34</td>\n",
       "      <td>62</td>\n",
       "      <td>27</td>\n",
       "      <td>69</td>\n",
       "      <td>66</td>\n",
       "      <td>37</td>\n",
       "      <td>23</td>\n",
       "      <td>15</td>\n",
       "    </tr>\n",
       "    <tr>\n",
       "      <th>2018</th>\n",
       "      <td>27</td>\n",
       "      <td>3</td>\n",
       "      <td>8</td>\n",
       "      <td>28</td>\n",
       "      <td>23</td>\n",
       "      <td>41</td>\n",
       "      <td>21</td>\n",
       "      <td>15</td>\n",
       "      <td>49</td>\n",
       "      <td>18</td>\n",
       "      <td>17</td>\n",
       "      <td>11</td>\n",
       "    </tr>\n",
       "  </tbody>\n",
       "</table>\n",
       "</div>"
      ],
      "text/plain": [
       "         count                                            \n",
       "DISTRICT    A1 A15  A7  B2  B3 C11  C6 D14  D4 E13 E18  E5\n",
       "YEAR                                                      \n",
       "2015        25   5   6  32  26  73  16   6  35  17  20  15\n",
       "2016        57   2  16  68  44  98  28  32  64  42  26  17\n",
       "2017        37   8  14  64  34  62  27  69  66  37  23  15\n",
       "2018        27   3   8  28  23  41  21  15  49  18  17  11"
      ]
     },
     "execution_count": 10,
     "metadata": {},
     "output_type": "execute_result"
    }
   ],
   "source": [
    "# to display districts as a column\n",
    "df2 = df1.groupby(['DISTRICT', 'YEAR']).count()[['count']].unstack(level=0)\n",
    "df2"
   ]
  },
  {
   "cell_type": "code",
   "execution_count": 11,
   "id": "b9e8c7f9",
   "metadata": {},
   "outputs": [],
   "source": [
    "#  to write to xlsx - write data frame into rows\n",
    "rows = dataframe_to_rows(df2)\n",
    "# data should be write into template starting from row 8\n",
    "for r_idx, row in enumerate(rows, 8):\n",
    "    for c_idx, value in enumerate(row, 1):\n",
    "        ws.cell(row=r_idx, column=c_idx, value=value)"
   ]
  },
  {
   "cell_type": "code",
   "execution_count": 11,
   "id": "bb1ffd13",
   "metadata": {},
   "outputs": [],
   "source": [
    "wb.save('crime_report.xlsx')"
   ]
  },
  {
   "cell_type": "code",
   "execution_count": null,
   "id": "b2cfbeff",
   "metadata": {},
   "outputs": [],
   "source": []
  }
 ],
 "metadata": {
  "kernelspec": {
   "display_name": "Python 3 (ipykernel)",
   "language": "python",
   "name": "python3"
  },
  "language_info": {
   "codemirror_mode": {
    "name": "ipython",
    "version": 3
   },
   "file_extension": ".py",
   "mimetype": "text/x-python",
   "name": "python",
   "nbconvert_exporter": "python",
   "pygments_lexer": "ipython3",
   "version": "3.12.1"
  }
 },
 "nbformat": 4,
 "nbformat_minor": 5
}
