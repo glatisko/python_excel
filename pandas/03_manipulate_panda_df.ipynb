{
 "cells": [
  {
   "cell_type": "code",
   "execution_count": 4,
   "id": "7fff387c",
   "metadata": {},
   "outputs": [],
   "source": [
    "import pandas as pd\n",
    "import seaborn as sns"
   ]
  },
  {
   "cell_type": "code",
   "execution_count": null,
   "id": "5ef96e8e",
   "metadata": {},
   "outputs": [],
   "source": [
    "tips = sns.load_dataset('tips')\n",
    "tips.head()"
   ]
  },
  {
   "cell_type": "code",
   "execution_count": null,
   "id": "dac6b2c5",
   "metadata": {},
   "outputs": [],
   "source": [
    "# Add new column\n",
    "tips['tip_pct'] = tips['tip']/tips['total_bill']\n",
    "tips.head()"
   ]
  },
  {
   "cell_type": "code",
   "execution_count": null,
   "id": "93158fc0",
   "metadata": {},
   "outputs": [],
   "source": [
    "tips['tip_pct'] = tips['tip_pct'].round(2)\n",
    "tips.head()"
   ]
  },
  {
   "cell_type": "code",
   "execution_count": null,
   "id": "1604e006",
   "metadata": {},
   "outputs": [],
   "source": [
    "# Drop column and print column names\n",
    "tips.drop('tip_pct', axis='columns', inplace=True)\n",
    "tips.columns"
   ]
  },
  {
   "cell_type": "code",
   "execution_count": 11,
   "id": "638c419d",
   "metadata": {},
   "outputs": [
    {
     "data": {
      "text/plain": [
       "['Dinner']\n",
       "Categories (2, object): ['Lunch', 'Dinner']"
      ]
     },
     "execution_count": 11,
     "metadata": {},
     "output_type": "execute_result"
    }
   ],
   "source": [
    "# Check unique dinnners\n",
    "dinner = tips.query('time == \"Dinner\"')\n",
    "dinner['time'].unique()"
   ]
  },
  {
   "cell_type": "code",
   "execution_count": null,
   "id": "9b4f32b8",
   "metadata": {},
   "outputs": [],
   "source": [
    "# find biggest transation of the dinnner shift\n",
    "dinner_sorted = dinner.sort_values(by='total_bill', ascending=False)\n",
    "dinner_sorted.head(10)"
   ]
  },
  {
   "cell_type": "code",
   "execution_count": null,
   "id": "776db878",
   "metadata": {},
   "outputs": [],
   "source": []
  }
 ],
 "metadata": {
  "kernelspec": {
   "display_name": "Python 3 (ipykernel)",
   "language": "python",
   "name": "python3"
  },
  "language_info": {
   "codemirror_mode": {
    "name": "ipython",
    "version": 3
   },
   "file_extension": ".py",
   "mimetype": "text/x-python",
   "name": "python",
   "nbconvert_exporter": "python",
   "pygments_lexer": "ipython3",
   "version": "3.12.1"
  }
 },
 "nbformat": 4,
 "nbformat_minor": 5
}
