{
 "cells": [
  {
   "cell_type": "code",
   "execution_count": 1,
   "id": "de2c86aa",
   "metadata": {},
   "outputs": [],
   "source": [
    "from openpyxl.workbook import Workbook\n",
    "from openpyxl import load_workbook"
   ]
  },
  {
   "cell_type": "code",
   "execution_count": 3,
   "id": "d8fb528b",
   "metadata": {},
   "outputs": [],
   "source": [
    "# Create new Workbook \n",
    "# name active sheet \n",
    "wb = Workbook()\n",
    "ws = wb.active\n",
    "ws.title = 'MySheet'"
   ]
  },
  {
   "cell_type": "code",
   "execution_count": 4,
   "id": "b62401af",
   "metadata": {},
   "outputs": [],
   "source": [
    "ws2 = wb.create_sheet('Another', 0)"
   ]
  },
  {
   "cell_type": "code",
   "execution_count": null,
   "id": "12409b25",
   "metadata": {},
   "outputs": [],
   "source": [
    "wb.sheetnames"
   ]
  },
  {
   "cell_type": "code",
   "execution_count": null,
   "id": "e025e3f2",
   "metadata": {},
   "outputs": [],
   "source": [
    "# Save workboot to a file\n",
    "wb.save('hello-openpyxl.xlsx')"
   ]
  },
  {
   "cell_type": "code",
   "execution_count": null,
   "id": "0daf71f1",
   "metadata": {},
   "outputs": [],
   "source": [
    "# modify existing workbook\n",
    "wb2 = load_workbook('regions.xlsx')"
   ]
  },
  {
   "cell_type": "code",
   "execution_count": null,
   "id": "d4262212",
   "metadata": {},
   "outputs": [],
   "source": [
    "# overwrite data in cell A1 of the active worksheet\n",
    "active_sheet = wb2.active\n",
    "active_sheet['A1'] = 0"
   ]
  },
  {
   "cell_type": "code",
   "execution_count": 10,
   "id": "7852c16e",
   "metadata": {},
   "outputs": [],
   "source": [
    "# save a new xlsx\n",
    "wb2.save('regions-modified.xlsx')"
   ]
  },
  {
   "cell_type": "code",
   "execution_count": null,
   "id": "64982d70",
   "metadata": {},
   "outputs": [],
   "source": []
  }
 ],
 "metadata": {
  "kernelspec": {
   "display_name": "Python 3 (ipykernel)",
   "language": "python",
   "name": "python3"
  },
  "language_info": {
   "codemirror_mode": {
    "name": "ipython",
    "version": 3
   },
   "file_extension": ".py",
   "mimetype": "text/x-python",
   "name": "python",
   "nbconvert_exporter": "python",
   "pygments_lexer": "ipython3",
   "version": "3.12.1"
  }
 },
 "nbformat": 4,
 "nbformat_minor": 5
}
