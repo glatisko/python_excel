{
 "cells": [
  {
   "cell_type": "code",
   "execution_count": 2,
   "id": "09c564ad",
   "metadata": {},
   "outputs": [],
   "source": [
    "import pandas as pd"
   ]
  },
  {
   "cell_type": "code",
   "execution_count": null,
   "id": "0ecc673c",
   "metadata": {},
   "outputs": [],
   "source": [
    "# print tab orders\n",
    "orders = pd.read_excel('superstore.xlsx', sheet_name='orders')\n",
    "orders.head()"
   ]
  },
  {
   "cell_type": "code",
   "execution_count": null,
   "id": "70ac30b7",
   "metadata": {},
   "outputs": [],
   "source": [
    "# rename column returned to details\n",
    "returns = pd.read_excel('superstore.xlsx', sheet_name='returns', names=['returned', 'details'])\n",
    "returns.head()"
   ]
  },
  {
   "cell_type": "code",
   "execution_count": 13,
   "id": "2a9efc1b",
   "metadata": {},
   "outputs": [],
   "source": [
    "# export to new xlsx without index column A\n",
    "returns.to_excel('returns.xlsx', index=False)"
   ]
  },
  {
   "cell_type": "code",
   "execution_count": null,
   "id": "5f9363c7",
   "metadata": {},
   "outputs": [],
   "source": []
  }
 ],
 "metadata": {
  "kernelspec": {
   "display_name": "Python 3 (ipykernel)",
   "language": "python",
   "name": "python3"
  },
  "language_info": {
   "codemirror_mode": {
    "name": "ipython",
    "version": 3
   },
   "file_extension": ".py",
   "mimetype": "text/x-python",
   "name": "python",
   "nbconvert_exporter": "python",
   "pygments_lexer": "ipython3",
   "version": "3.12.1"
  }
 },
 "nbformat": 4,
 "nbformat_minor": 5
}
